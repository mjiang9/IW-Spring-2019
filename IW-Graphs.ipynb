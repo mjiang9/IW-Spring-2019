{
 "cells": [
  {
   "cell_type": "markdown",
   "metadata": {},
   "source": [
    "# Functions related to Graphs"
   ]
  },
  {
   "cell_type": "code",
   "execution_count": null,
   "metadata": {},
   "outputs": [],
   "source": [
    "def degree_info(graph):\n",
    "    degrees = [val for (node, val) in graph.degree()]\n",
    "    return np.median(degrees), np.mean(degrees), np.std(degrees)"
   ]
  },
  {
   "cell_type": "code",
   "execution_count": null,
   "metadata": {},
   "outputs": [],
   "source": [
    "def kweighted(G_old, k, show):\n",
    "    G_new = nx.Graph()\n",
    "    for (u, v, d) in G_old.edges(data=True):\n",
    "        if show:\n",
    "            print u,v,d\n",
    "        if d['weight'] >= k:\n",
    "            G_new.add_edge(u, v)\n",
    "    return G_new"
   ]
  },
  {
   "cell_type": "code",
   "execution_count": null,
   "metadata": {},
   "outputs": [],
   "source": [
    "def egograph(name, t1, t2):\n",
    "    hub_ego = nx.ego_graph(G, name)\n",
    "    pos = nx.spring_layout(hub_ego)\n",
    "    options = {\n",
    "        'node_color': 'c',\n",
    "        'node_size': 20,\n",
    "        'line_color': 'grey',\n",
    "        'linewidths': 0,\n",
    "        'width': 0.1,\n",
    "    }\n",
    "    nx.draw(hub_ego, pos, with_labels=False, **options)\n",
    "    nx.draw_networkx_nodes(hub_ego, pos, nodelist=[name], node_size=100, node_color='b')\n",
    "    labels = {}\n",
    "    for node in hub_ego:\n",
    "        if boxofficesorted.index(node) < t1 and boxofficesorted.index(node) % t2 == 0 or node == name:\n",
    "            labels[node] = node\n",
    "    nx.draw_networkx_labels(hub_ego, pos, labels)"
   ]
  }
 ],
 "metadata": {
  "kernelspec": {
   "display_name": "Python 2",
   "language": "python",
   "name": "python2"
  },
  "language_info": {
   "codemirror_mode": {
    "name": "ipython",
    "version": 2
   },
   "file_extension": ".py",
   "mimetype": "text/x-python",
   "name": "python",
   "nbconvert_exporter": "python",
   "pygments_lexer": "ipython2",
   "version": "2.7.15"
  }
 },
 "nbformat": 4,
 "nbformat_minor": 2
}
