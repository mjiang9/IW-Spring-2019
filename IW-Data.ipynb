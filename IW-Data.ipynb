{
 "cells": [
  {
   "cell_type": "markdown",
   "metadata": {},
   "source": [
    "# Data Scraping and Processing, Main Graph Construction"
   ]
  },
  {
   "cell_type": "code",
   "execution_count": 1,
   "metadata": {},
   "outputs": [],
   "source": [
    "import networkx as nx\n",
    "import csv\n",
    "import matplotlib.pyplot as plot\n",
    "from bs4 import BeautifulSoup\n",
    "import urllib2"
   ]
  },
  {
   "cell_type": "markdown",
   "metadata": {},
   "source": [
    "## Scraping Wikipedia"
   ]
  },
  {
   "cell_type": "code",
   "execution_count": null,
   "metadata": {},
   "outputs": [],
   "source": [
    "page0 = urllib2.urlopen(\"https://en.wikipedia.org/wiki/List_of_actors_with_Academy_Award_nominations\")\n",
    "soup0 = BeautifulSoup(page0, 'html.parser')\n",
    "actors0 = soup0.find_all('tr')[11:][:-11]"
   ]
  },
  {
   "cell_type": "code",
   "execution_count": null,
   "metadata": {},
   "outputs": [],
   "source": [
    "academylist = []\n",
    "for actor in actors0:\n",
    "    academylist.append(actor.find('a').text)"
   ]
  },
  {
   "cell_type": "markdown",
   "metadata": {},
   "source": [
    "## Scraping BoxOfficeMojo"
   ]
  },
  {
   "cell_type": "code",
   "execution_count": null,
   "metadata": {},
   "outputs": [],
   "source": [
    "page1 = urllib2.urlopen(\"https://www.boxofficemojo.com/people/?view=Actor&p=.htm\")\n",
    "soup1 = BeautifulSoup(page1, 'html.parser')\n",
    "actors1 = soup1.find_all('tr')[2].find_all('tr')[1:]"
   ]
  },
  {
   "cell_type": "code",
   "execution_count": null,
   "metadata": {},
   "outputs": [],
   "source": [
    "page2 = urllib2.urlopen(\"https://www.boxofficemojo.com/people/?view=Actor&pagenum=2&sort=person&order=ASC&p=.htm\")\n",
    "soup2 = BeautifulSoup(page2, 'html.parser')\n",
    "actors2 = soup2.find_all('tr')[2].find_all('tr')[1:]"
   ]
  },
  {
   "cell_type": "code",
   "execution_count": null,
   "metadata": {},
   "outputs": [],
   "source": [
    "page3 = urllib2.urlopen(\"https://www.boxofficemojo.com/people/?view=Actor&pagenum=3&sort=person&order=ASC&p=.htm\")\n",
    "soup3 = BeautifulSoup(page3, 'html.parser')\n",
    "actors3 = soup3.find_all('tr')[2].find_all('tr')[1:]"
   ]
  },
  {
   "cell_type": "code",
   "execution_count": null,
   "metadata": {},
   "outputs": [],
   "source": [
    "boxofficedict = {}\n",
    "def addtodict(actors):\n",
    "    for actor in actors:\n",
    "        name = actor.find('b').find('b').text.replace(\",\", \"\")\n",
    "        boxoffice = str(actor.find('td', attrs={'align':'right'}).text[1:]).replace(\",\", \"\")\n",
    "        if \"k\" in boxoffice:\n",
    "            boxoffice = float(boxoffice.replace(\"k\", \"\"))/1000\n",
    "        boxofficedict[name] = float(boxoffice)"
   ]
  },
  {
   "cell_type": "code",
   "execution_count": null,
   "metadata": {},
   "outputs": [],
   "source": [
    "addtodict(actors1)\n",
    "addtodict(actors2)\n",
    "addtodict(actors3)"
   ]
  },
  {
   "cell_type": "markdown",
   "metadata": {},
   "source": [
    "## Processing IMDb Data"
   ]
  },
  {
   "cell_type": "code",
   "execution_count": null,
   "metadata": {},
   "outputs": [],
   "source": [
    "with open('title.basics.tsv') as tsvfile:\n",
    "    reader = csv.reader(tsvfile, delimiter='\\t')\n",
    "    i = 0\n",
    "    for row in reader:\n",
    "        if i < 200:\n",
    "            print(row)\n",
    "            i = i + 1\n",
    "        else:\n",
    "            break"
   ]
  },
  {
   "cell_type": "code",
   "execution_count": null,
   "metadata": {},
   "outputs": [],
   "source": [
    "movies = {}\n",
    "with open('title.basics.tsv') as tsvfile:\n",
    "    reader = csv.reader(tsvfile, delimiter='\\t')\n",
    "    i = 0\n",
    "    for row in reader:\n",
    "        movies[row[0]] = row[1]"
   ]
  },
  {
   "cell_type": "code",
   "execution_count": null,
   "metadata": {},
   "outputs": [],
   "source": [
    "dict = {}\n",
    "birthdict = {}\n",
    "deathdict = {}\n",
    "with open('name.basics.tsv') as tsvfile:\n",
    "    reader = csv.reader(tsvfile, delimiter='\\t')\n",
    "    i = 0\n",
    "    for row in reader:\n",
    "        if i < 200:\n",
    "            print(row)\n",
    "            i = i + 1\n",
    "        if i > 1:\n",
    "            dict[row[0]] = row[1]\n",
    "            birthdict[row[0]] = row[2]\n",
    "            if row[3] != '\\N':\n",
    "                deathdict[row[0]] = row[3]"
   ]
  },
  {
   "cell_type": "markdown",
   "metadata": {},
   "source": [
    "## Graph Constructions"
   ]
  },
  {
   "cell_type": "code",
   "execution_count": null,
   "metadata": {},
   "outputs": [],
   "source": [
    "G = nx.Graph()\n",
    "Gw = nx.Graph()\n",
    "Gm = nx.Graph()\n",
    "Gweighted = nx.Graph()\n",
    "moviecountdict = {}\n",
    "agedict = {}\n",
    "with open('title.principals.tsv') as tsvfile:\n",
    "    reader = csv.reader(tsvfile, delimiter='\\t')\n",
    "    prev = \"\"\n",
    "    actors = []\n",
    "    for row in reader:\n",
    "        if row[3] == 'actor' and row[2] in dict and dict[row[2]] in boxofficedict:\n",
    "            Gm.add_node(dict[row[2]])\n",
    "            G.add_node(dict[row[2]])\n",
    "            Gweighted.add_node(dict[row[2]])\n",
    "            if dict[row[2]] in moviecountdict:\n",
    "                moviecountdict[dict[row[2]]] += 1\n",
    "            else:\n",
    "                moviecountdict[dict[row[2]]] = 1\n",
    "            agedict[dict[row[2]]] = 0 if birthdict[row[2]] == '\\N' else 2019-int(birthdict[row[2]])\n",
    "        elif row[3] == 'actress' and row[2] in dict and dict[row[2]] in boxofficedict:\n",
    "            Gw.add_node(dict[row[2]])\n",
    "            G.add_node(dict[row[2]])\n",
    "            Gweighted.add_node(dict[row[2]])\n",
    "            if dict[row[2]] in moviecountdict:\n",
    "                moviecountdict[dict[row[2]]] += 1\n",
    "            else:\n",
    "                moviecountdict[dict[row[2]]] = 1\n",
    "            agedict[dict[row[2]]] = 0 if birthdict[row[2]] == '\\N' else 2019-int(birthdict[row[2]])\n",
    "        else:\n",
    "            continue\n",
    "        if row[0] != prev:\n",
    "            for i in range(len(actors)):\n",
    "                for j in range(i, len(actors)):\n",
    "                    a1 = actors[i]\n",
    "                    a2 = actors[j]\n",
    "                    if a1 == a2:\n",
    "                        continue\n",
    "                    G.add_edge(a1, a2)\n",
    "                    if Gweighted.has_edge(a1, a2):\n",
    "                        Gweighted.add_edge(a1, a2, weight=(Gweighted.get_edge_data(a1, a2)['weight'] + 1))\n",
    "                    else:\n",
    "                        Gweighted.add_edge(a1, a2, weight=1)\n",
    "                    if a1 in Gw.nodes and a2 in Gw.nodes:\n",
    "                        Gw.add_edge(a1, a2)\n",
    "                    elif a1 in Gm.nodes and a2 in Gm.nodes:\n",
    "                        Gm.add_edge(a1, a2)\n",
    "            actors = [dict[row[2]]]\n",
    "        else:\n",
    "            actors.append(dict[row[2]])\n",
    "        prev = row[0]"
   ]
  },
  {
   "cell_type": "code",
   "execution_count": null,
   "metadata": {},
   "outputs": [],
   "source": [
    "actorw = sorted(Gw.nodes)\n",
    "actorm = sorted(Gm.nodes)"
   ]
  },
  {
   "cell_type": "code",
   "execution_count": null,
   "metadata": {},
   "outputs": [],
   "source": [
    "actorlist = [a for a in actorw]\n",
    "for a in actorm:\n",
    "    actorlist.append(a)"
   ]
  },
  {
   "cell_type": "code",
   "execution_count": null,
   "metadata": {},
   "outputs": [],
   "source": [
    "for a in agedict:\n",
    "    if a in actorlist:\n",
    "        print a, agedict[a]"
   ]
  },
  {
   "cell_type": "code",
   "execution_count": null,
   "metadata": {},
   "outputs": [],
   "source": [
    "missing = []\n",
    "for a in agedict:\n",
    "    if agedict[a] == 0:\n",
    "        missing.append(a)"
   ]
  },
  {
   "cell_type": "code",
   "execution_count": null,
   "metadata": {},
   "outputs": [],
   "source": [
    "ages = [1973, 1964, 1968, 1966, 1997, 1972, 1984, 1954, 1951, 1965, 1958, 1988, 1989, 1931, 1968, 1990, 1966, 1928, 1972, 1969, 1974, 1969, 1976, 1922, 1997, 1995]\n",
    "missing = zip(missing, ages)"
   ]
  },
  {
   "cell_type": "code",
   "execution_count": null,
   "metadata": {},
   "outputs": [],
   "source": [
    "for i in range(len(missing)):\n",
    "    agedict[missing[i][0]] = 2019-missing[i][1]"
   ]
  },
  {
   "cell_type": "code",
   "execution_count": null,
   "metadata": {},
   "outputs": [],
   "source": [
    "Gtop = nx.Graph()\n",
    "Glow = nx.Graph()\n",
    "for a in G.nodes():\n",
    "    if a in academylist:\n",
    "        Gtop.add_node(a)\n",
    "    else:\n",
    "        Glow.add_node(a)\n",
    "for (u, v) in G.edges():\n",
    "    if u in academylist and v in academylist:\n",
    "        Gtop.add_edge(u, v)\n",
    "    elif u not in academylist and v not in academylist:\n",
    "        Glow.add_edge(u, v)"
   ]
  }
 ],
 "metadata": {
  "kernelspec": {
   "display_name": "Python 2",
   "language": "python",
   "name": "python2"
  },
  "language_info": {
   "codemirror_mode": {
    "name": "ipython",
    "version": 2
   },
   "file_extension": ".py",
   "mimetype": "text/x-python",
   "name": "python",
   "nbconvert_exporter": "python",
   "pygments_lexer": "ipython2",
   "version": "2.7.15"
  }
 },
 "nbformat": 4,
 "nbformat_minor": 2
}
